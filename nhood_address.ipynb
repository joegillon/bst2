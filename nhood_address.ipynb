{
 "cells": [
  {
   "cell_type": "code",
   "execution_count": 10,
   "metadata": {},
   "outputs": [],
   "source": [
    "import os\n",
    "path='c:/bench/bst/data/neighborhoods/'"
   ]
  },
  {
   "cell_type": "code",
   "execution_count": 11,
   "metadata": {},
   "outputs": [
    {
     "name": "stdout",
     "output_type": "stream",
     "text": [
      "Bruce_St.csv\n",
      "Garden_Homes.csv\n"
     ]
    }
   ],
   "source": [
    "for f in os.listdir(path):\n",
    "    if os.path.isfile(os.path.join(path, f)):\n",
    "        parts = f.split('.')\n",
    "        if len(parts) == 2 and parts[1] == 'csv':\n",
    "            print(f)"
   ]
  },
  {
   "cell_type": "code",
   "execution_count": 12,
   "metadata": {},
   "outputs": [],
   "source": [
    "import csv\n",
    "streets = []"
   ]
  },
  {
   "cell_type": "code",
   "execution_count": 13,
   "metadata": {},
   "outputs": [
    {
     "data": {
      "text/plain": [
       "[{'name': 'MILLER AVE', 'lo': '1775', 'hi': '2133', 'oe': 'O'},\n",
       " {'name': 'DUNCAN ST', 'lo': '', 'hi': '', 'oe': ''},\n",
       " {'name': 'BRUCE ST', 'lo': '', 'hi': '', 'oe': ''},\n",
       " {'name': 'ALICE ST', 'lo': '', 'hi': '', 'oe': ''},\n",
       " {'name': 'ARLENE ST', 'lo': '', 'hi': '', 'oe': ''},\n",
       " {'name': 'ROSS ST', 'lo': '', 'hi': '', 'oe': ''},\n",
       " {'name': 'SUNRISE ST', 'lo': '', 'hi': '', 'oe': ''},\n",
       " {'name': 'SUNRISE CT', 'lo': '', 'hi': '', 'oe': ''},\n",
       " {'name': 'WESTWOOD AVE', 'lo': '400', 'hi': '', 'oe': ''},\n",
       " {'name': 'ARBORVIEW BLVD', 'lo': '1900', 'hi': '2118', 'oe': 'E'}]"
      ]
     },
     "execution_count": 13,
     "metadata": {},
     "output_type": "execute_result"
    }
   ],
   "source": [
    "with open('c:/bench/bst/data/neighborhoods/Bruce_St.csv', 'r') as f:\n",
    "    rdr = csv.DictReader(f)\n",
    "    for line in rdr:\n",
    "        streets.append(line)\n",
    "streets"
   ]
  },
  {
   "cell_type": "code",
   "execution_count": 15,
   "metadata": {},
   "outputs": [],
   "source": [
    "import pandas as pd"
   ]
  },
  {
   "cell_type": "code",
   "execution_count": 18,
   "metadata": {},
   "outputs": [],
   "source": [
    "df=pd.read_csv('c:/bench/reps/michigan/data/voters.csv')"
   ]
  },
  {
   "cell_type": "code",
   "execution_count": 19,
   "metadata": {},
   "outputs": [
    {
     "data": {
      "text/html": [
       "<div>\n",
       "<style scoped>\n",
       "    .dataframe tbody tr th:only-of-type {\n",
       "        vertical-align: middle;\n",
       "    }\n",
       "\n",
       "    .dataframe tbody tr th {\n",
       "        vertical-align: top;\n",
       "    }\n",
       "\n",
       "    .dataframe thead th {\n",
       "        text-align: right;\n",
       "    }\n",
       "</style>\n",
       "<table border=\"1\" class=\"dataframe\">\n",
       "  <thead>\n",
       "    <tr style=\"text-align: right;\">\n",
       "      <th></th>\n",
       "      <th>last_name</th>\n",
       "      <th>first_name</th>\n",
       "      <th>middle_name</th>\n",
       "      <th>name_suffix</th>\n",
       "      <th>date_of_birth</th>\n",
       "      <th>birth_year</th>\n",
       "      <th>gender</th>\n",
       "      <th>ethnicity</th>\n",
       "      <th>street_address</th>\n",
       "      <th>city</th>\n",
       "      <th>...</th>\n",
       "      <th>ward</th>\n",
       "      <th>precinct</th>\n",
       "      <th>congress</th>\n",
       "      <th>state_senate</th>\n",
       "      <th>state_house</th>\n",
       "      <th>voter_id</th>\n",
       "      <th>reg_date</th>\n",
       "      <th>status</th>\n",
       "      <th>absentee</th>\n",
       "      <th>party</th>\n",
       "    </tr>\n",
       "  </thead>\n",
       "  <tbody>\n",
       "    <tr>\n",
       "      <th>0</th>\n",
       "      <td>SCHOUWINK</td>\n",
       "      <td>KAREN</td>\n",
       "      <td>M</td>\n",
       "      <td>NaN</td>\n",
       "      <td>NaN</td>\n",
       "      <td>1959</td>\n",
       "      <td>F</td>\n",
       "      <td>NaN</td>\n",
       "      <td>1843  FAWNBROOKE RUN</td>\n",
       "      <td>ALLEGAN</td>\n",
       "      <td>...</td>\n",
       "      <td>0</td>\n",
       "      <td>001</td>\n",
       "      <td>6</td>\n",
       "      <td>26</td>\n",
       "      <td>80</td>\n",
       "      <td>2550011644</td>\n",
       "      <td>4221999</td>\n",
       "      <td>A</td>\n",
       "      <td>N</td>\n",
       "      <td>NaN</td>\n",
       "    </tr>\n",
       "    <tr>\n",
       "      <th>1</th>\n",
       "      <td>GATEWOOD</td>\n",
       "      <td>DAVONTAE</td>\n",
       "      <td>EUGENE</td>\n",
       "      <td>NaN</td>\n",
       "      <td>NaN</td>\n",
       "      <td>1999</td>\n",
       "      <td>M</td>\n",
       "      <td>NaN</td>\n",
       "      <td>9459 E PICKWICK CIR</td>\n",
       "      <td>TAYLOR</td>\n",
       "      <td>...</td>\n",
       "      <td>0</td>\n",
       "      <td>013</td>\n",
       "      <td>12</td>\n",
       "      <td>6</td>\n",
       "      <td>12</td>\n",
       "      <td>33335040</td>\n",
       "      <td>5242017</td>\n",
       "      <td>A</td>\n",
       "      <td>N</td>\n",
       "      <td>NaN</td>\n",
       "    </tr>\n",
       "    <tr>\n",
       "      <th>2</th>\n",
       "      <td>GAITAN</td>\n",
       "      <td>DERRICK</td>\n",
       "      <td>MIKEAL</td>\n",
       "      <td>NaN</td>\n",
       "      <td>NaN</td>\n",
       "      <td>1993</td>\n",
       "      <td>M</td>\n",
       "      <td>NaN</td>\n",
       "      <td>1779  LIBERTY DR  APT 202</td>\n",
       "      <td>MOUNT PLEASANT</td>\n",
       "      <td>...</td>\n",
       "      <td>0</td>\n",
       "      <td>003</td>\n",
       "      <td>4</td>\n",
       "      <td>33</td>\n",
       "      <td>99</td>\n",
       "      <td>33335041</td>\n",
       "      <td>5242017</td>\n",
       "      <td>A</td>\n",
       "      <td>N</td>\n",
       "      <td>NaN</td>\n",
       "    </tr>\n",
       "    <tr>\n",
       "      <th>3</th>\n",
       "      <td>GIDDINGS</td>\n",
       "      <td>JOSHUA</td>\n",
       "      <td>JOHN</td>\n",
       "      <td>NaN</td>\n",
       "      <td>NaN</td>\n",
       "      <td>1974</td>\n",
       "      <td>M</td>\n",
       "      <td>NaN</td>\n",
       "      <td>4105  MEADOW WAY</td>\n",
       "      <td>BLOOMFIELD HILLS</td>\n",
       "      <td>...</td>\n",
       "      <td>0</td>\n",
       "      <td>003</td>\n",
       "      <td>9</td>\n",
       "      <td>12</td>\n",
       "      <td>40</td>\n",
       "      <td>33335042</td>\n",
       "      <td>6282014</td>\n",
       "      <td>A</td>\n",
       "      <td>N</td>\n",
       "      <td>NaN</td>\n",
       "    </tr>\n",
       "    <tr>\n",
       "      <th>4</th>\n",
       "      <td>IRVIN</td>\n",
       "      <td>YVONNE</td>\n",
       "      <td>N</td>\n",
       "      <td>NaN</td>\n",
       "      <td>NaN</td>\n",
       "      <td>1960</td>\n",
       "      <td>F</td>\n",
       "      <td>NaN</td>\n",
       "      <td>15744  PINEHURST ST</td>\n",
       "      <td>DETROIT</td>\n",
       "      <td>...</td>\n",
       "      <td>2</td>\n",
       "      <td>384</td>\n",
       "      <td>14</td>\n",
       "      <td>3</td>\n",
       "      <td>7</td>\n",
       "      <td>2000362739</td>\n",
       "      <td>5121992</td>\n",
       "      <td>A</td>\n",
       "      <td>N</td>\n",
       "      <td>NaN</td>\n",
       "    </tr>\n",
       "  </tbody>\n",
       "</table>\n",
       "<p>5 rows × 23 columns</p>\n",
       "</div>"
      ],
      "text/plain": [
       "   last_name first_name middle_name name_suffix  date_of_birth  birth_year  \\\n",
       "0  SCHOUWINK      KAREN           M         NaN            NaN        1959   \n",
       "1   GATEWOOD   DAVONTAE      EUGENE         NaN            NaN        1999   \n",
       "2     GAITAN    DERRICK      MIKEAL         NaN            NaN        1993   \n",
       "3   GIDDINGS     JOSHUA        JOHN         NaN            NaN        1974   \n",
       "4      IRVIN     YVONNE           N         NaN            NaN        1960   \n",
       "\n",
       "  gender  ethnicity             street_address              city  ...  ward  \\\n",
       "0      F        NaN     1843  FAWNBROOKE RUN             ALLEGAN  ...     0   \n",
       "1      M        NaN      9459 E PICKWICK CIR              TAYLOR  ...     0   \n",
       "2      M        NaN  1779  LIBERTY DR  APT 202    MOUNT PLEASANT  ...     0   \n",
       "3      M        NaN         4105  MEADOW WAY    BLOOMFIELD HILLS  ...     0   \n",
       "4      F        NaN      15744  PINEHURST ST             DETROIT  ...     2   \n",
       "\n",
       "   precinct  congress  state_senate state_house    voter_id  reg_date  status  \\\n",
       "0       001         6            26          80  2550011644   4221999       A   \n",
       "1       013        12             6          12    33335040   5242017       A   \n",
       "2       003         4            33          99    33335041   5242017       A   \n",
       "3       003         9            12          40    33335042   6282014       A   \n",
       "4       384        14             3           7  2000362739   5121992       A   \n",
       "\n",
       "   absentee  party  \n",
       "0         N    NaN  \n",
       "1         N    NaN  \n",
       "2         N    NaN  \n",
       "3         N    NaN  \n",
       "4         N    NaN  \n",
       "\n",
       "[5 rows x 23 columns]"
      ]
     },
     "execution_count": 19,
     "metadata": {},
     "output_type": "execute_result"
    }
   ],
   "source": [
    "df.head()"
   ]
  },
  {
   "cell_type": "code",
   "execution_count": 20,
   "metadata": {},
   "outputs": [],
   "source": [
    "aa=df.loc[df['city']=='ANN ARBOR']"
   ]
  },
  {
   "cell_type": "code",
   "execution_count": 21,
   "metadata": {},
   "outputs": [
    {
     "data": {
      "text/html": [
       "<div>\n",
       "<style scoped>\n",
       "    .dataframe tbody tr th:only-of-type {\n",
       "        vertical-align: middle;\n",
       "    }\n",
       "\n",
       "    .dataframe tbody tr th {\n",
       "        vertical-align: top;\n",
       "    }\n",
       "\n",
       "    .dataframe thead th {\n",
       "        text-align: right;\n",
       "    }\n",
       "</style>\n",
       "<table border=\"1\" class=\"dataframe\">\n",
       "  <thead>\n",
       "    <tr style=\"text-align: right;\">\n",
       "      <th></th>\n",
       "      <th>last_name</th>\n",
       "      <th>first_name</th>\n",
       "      <th>middle_name</th>\n",
       "      <th>name_suffix</th>\n",
       "      <th>date_of_birth</th>\n",
       "      <th>birth_year</th>\n",
       "      <th>gender</th>\n",
       "      <th>ethnicity</th>\n",
       "      <th>street_address</th>\n",
       "      <th>city</th>\n",
       "      <th>...</th>\n",
       "      <th>ward</th>\n",
       "      <th>precinct</th>\n",
       "      <th>congress</th>\n",
       "      <th>state_senate</th>\n",
       "      <th>state_house</th>\n",
       "      <th>voter_id</th>\n",
       "      <th>reg_date</th>\n",
       "      <th>status</th>\n",
       "      <th>absentee</th>\n",
       "      <th>party</th>\n",
       "    </tr>\n",
       "  </thead>\n",
       "  <tbody>\n",
       "    <tr>\n",
       "      <th>57</th>\n",
       "      <td>ALBERTINI</td>\n",
       "      <td>JEFFREY</td>\n",
       "      <td>M</td>\n",
       "      <td>NaN</td>\n",
       "      <td>NaN</td>\n",
       "      <td>1984</td>\n",
       "      <td>M</td>\n",
       "      <td>NaN</td>\n",
       "      <td>205  HIGHLAKE AVE</td>\n",
       "      <td>ANN ARBOR</td>\n",
       "      <td>...</td>\n",
       "      <td>5</td>\n",
       "      <td>008</td>\n",
       "      <td>12</td>\n",
       "      <td>18</td>\n",
       "      <td>53</td>\n",
       "      <td>1630074500</td>\n",
       "      <td>9242008</td>\n",
       "      <td>A</td>\n",
       "      <td>N</td>\n",
       "      <td>NaN</td>\n",
       "    </tr>\n",
       "    <tr>\n",
       "      <th>60</th>\n",
       "      <td>FEURINO</td>\n",
       "      <td>LOUIS</td>\n",
       "      <td>WILLIAM</td>\n",
       "      <td>NaN</td>\n",
       "      <td>NaN</td>\n",
       "      <td>1979</td>\n",
       "      <td>M</td>\n",
       "      <td>NaN</td>\n",
       "      <td>3026  CLOVERLY LN</td>\n",
       "      <td>ANN ARBOR</td>\n",
       "      <td>...</td>\n",
       "      <td>3</td>\n",
       "      <td>005</td>\n",
       "      <td>12</td>\n",
       "      <td>18</td>\n",
       "      <td>53</td>\n",
       "      <td>1630074501</td>\n",
       "      <td>10062008</td>\n",
       "      <td>A</td>\n",
       "      <td>N</td>\n",
       "      <td>NaN</td>\n",
       "    </tr>\n",
       "    <tr>\n",
       "      <th>163</th>\n",
       "      <td>DAWSON</td>\n",
       "      <td>JOHN</td>\n",
       "      <td>FORREST</td>\n",
       "      <td>JR</td>\n",
       "      <td>NaN</td>\n",
       "      <td>1949</td>\n",
       "      <td>M</td>\n",
       "      <td>NaN</td>\n",
       "      <td>525  ELIZABETH ST</td>\n",
       "      <td>ANN ARBOR</td>\n",
       "      <td>...</td>\n",
       "      <td>1</td>\n",
       "      <td>004</td>\n",
       "      <td>12</td>\n",
       "      <td>18</td>\n",
       "      <td>55</td>\n",
       "      <td>1630074503</td>\n",
       "      <td>10062008</td>\n",
       "      <td>A</td>\n",
       "      <td>N</td>\n",
       "      <td>NaN</td>\n",
       "    </tr>\n",
       "    <tr>\n",
       "      <th>184</th>\n",
       "      <td>GANZ</td>\n",
       "      <td>LAUREN</td>\n",
       "      <td>NaN</td>\n",
       "      <td>NaN</td>\n",
       "      <td>NaN</td>\n",
       "      <td>1962</td>\n",
       "      <td>F</td>\n",
       "      <td>NaN</td>\n",
       "      <td>244  MURRAY AVE</td>\n",
       "      <td>ANN ARBOR</td>\n",
       "      <td>...</td>\n",
       "      <td>5</td>\n",
       "      <td>002</td>\n",
       "      <td>12</td>\n",
       "      <td>18</td>\n",
       "      <td>53</td>\n",
       "      <td>1630074505</td>\n",
       "      <td>10062008</td>\n",
       "      <td>A</td>\n",
       "      <td>Y</td>\n",
       "      <td>NaN</td>\n",
       "    </tr>\n",
       "    <tr>\n",
       "      <th>869</th>\n",
       "      <td>GANN</td>\n",
       "      <td>JOSHUA</td>\n",
       "      <td>LAWRENCE</td>\n",
       "      <td>NaN</td>\n",
       "      <td>NaN</td>\n",
       "      <td>1988</td>\n",
       "      <td>M</td>\n",
       "      <td>NaN</td>\n",
       "      <td>1015  RABBIT RUN CIR  APT 103</td>\n",
       "      <td>ANN ARBOR</td>\n",
       "      <td>...</td>\n",
       "      <td>0</td>\n",
       "      <td>007</td>\n",
       "      <td>12</td>\n",
       "      <td>22</td>\n",
       "      <td>52</td>\n",
       "      <td>33335068</td>\n",
       "      <td>5252017</td>\n",
       "      <td>A</td>\n",
       "      <td>N</td>\n",
       "      <td>NaN</td>\n",
       "    </tr>\n",
       "  </tbody>\n",
       "</table>\n",
       "<p>5 rows × 23 columns</p>\n",
       "</div>"
      ],
      "text/plain": [
       "     last_name first_name middle_name name_suffix  date_of_birth  birth_year  \\\n",
       "57   ALBERTINI    JEFFREY           M         NaN            NaN        1984   \n",
       "60     FEURINO      LOUIS     WILLIAM         NaN            NaN        1979   \n",
       "163     DAWSON       JOHN     FORREST          JR            NaN        1949   \n",
       "184       GANZ     LAUREN         NaN         NaN            NaN        1962   \n",
       "869       GANN     JOSHUA    LAWRENCE         NaN            NaN        1988   \n",
       "\n",
       "    gender  ethnicity                 street_address       city  ...  ward  \\\n",
       "57       M        NaN            205  HIGHLAKE AVE    ANN ARBOR  ...     5   \n",
       "60       M        NaN            3026  CLOVERLY LN    ANN ARBOR  ...     3   \n",
       "163      M        NaN            525  ELIZABETH ST    ANN ARBOR  ...     1   \n",
       "184      F        NaN              244  MURRAY AVE    ANN ARBOR  ...     5   \n",
       "869      M        NaN  1015  RABBIT RUN CIR  APT 103  ANN ARBOR  ...     0   \n",
       "\n",
       "     precinct  congress  state_senate state_house    voter_id  reg_date  \\\n",
       "57        008        12            18          53  1630074500   9242008   \n",
       "60        005        12            18          53  1630074501  10062008   \n",
       "163       004        12            18          55  1630074503  10062008   \n",
       "184       002        12            18          53  1630074505  10062008   \n",
       "869       007        12            22          52    33335068   5252017   \n",
       "\n",
       "     status  absentee  party  \n",
       "57        A         N    NaN  \n",
       "60        A         N    NaN  \n",
       "163       A         N    NaN  \n",
       "184       A         Y    NaN  \n",
       "869       A         N    NaN  \n",
       "\n",
       "[5 rows x 23 columns]"
      ]
     },
     "execution_count": 21,
     "metadata": {},
     "output_type": "execute_result"
    }
   ],
   "source": [
    "aa.head()"
   ]
  },
  {
   "cell_type": "code",
   "execution_count": 22,
   "metadata": {},
   "outputs": [
    {
     "data": {
      "text/plain": [
       "(47386, 23)"
      ]
     },
     "execution_count": 22,
     "metadata": {},
     "output_type": "execute_result"
    }
   ],
   "source": [
    "aa.shape"
   ]
  },
  {
   "cell_type": "code",
   "execution_count": 23,
   "metadata": {},
   "outputs": [
    {
     "data": {
      "text/plain": [
       "Index(['last_name', 'first_name', 'middle_name', 'name_suffix',\n",
       "       'date_of_birth', 'birth_year', 'gender', 'ethnicity', 'street_address',\n",
       "       'city', 'zipcode', 'county', 'jurisdiction', 'ward', 'precinct',\n",
       "       'congress', 'state_senate', 'state_house', 'voter_id', 'reg_date',\n",
       "       'status', 'absentee', 'party'],\n",
       "      dtype='object')"
      ]
     },
     "execution_count": 23,
     "metadata": {},
     "output_type": "execute_result"
    }
   ],
   "source": [
    "df.columns"
   ]
  },
  {
   "cell_type": "code",
   "execution_count": 25,
   "metadata": {},
   "outputs": [
    {
     "name": "stderr",
     "output_type": "stream",
     "text": [
      "C:\\Python39\\lib\\site-packages\\pandas\\core\\frame.py:4308: SettingWithCopyWarning: \n",
      "A value is trying to be set on a copy of a slice from a DataFrame\n",
      "\n",
      "See the caveats in the documentation: https://pandas.pydata.org/pandas-docs/stable/user_guide/indexing.html#returning-a-view-versus-a-copy\n",
      "  return super().drop(\n"
     ]
    }
   ],
   "source": [
    "aa.drop(['date_of_birth', 'ethnicity'], axis=1, inplace=True)"
   ]
  },
  {
   "cell_type": "code",
   "execution_count": 26,
   "metadata": {},
   "outputs": [
    {
     "data": {
      "text/plain": [
       "Index(['last_name', 'first_name', 'middle_name', 'name_suffix', 'birth_year',\n",
       "       'gender', 'street_address', 'city', 'zipcode', 'county', 'jurisdiction',\n",
       "       'ward', 'precinct', 'congress', 'state_senate', 'state_house',\n",
       "       'voter_id', 'reg_date', 'status', 'absentee', 'party'],\n",
       "      dtype='object')"
      ]
     },
     "execution_count": 26,
     "metadata": {},
     "output_type": "execute_result"
    }
   ],
   "source": [
    "aa.columns"
   ]
  },
  {
   "cell_type": "code",
   "execution_count": 27,
   "metadata": {},
   "outputs": [],
   "source": [
    "aa.to_csv('c:/bench/bst/data/my_voters.csv', index=False)"
   ]
  },
  {
   "cell_type": "code",
   "execution_count": 28,
   "metadata": {},
   "outputs": [],
   "source": [
    "import usaddress"
   ]
  },
  {
   "cell_type": "code",
   "execution_count": 29,
   "metadata": {},
   "outputs": [
    {
     "data": {
      "text/plain": [
       "[('145', 'AddressNumber'),\n",
       " ('N', 'StreetNamePreDirectional'),\n",
       " ('SAN', 'StreetName'),\n",
       " ('RAFAEL', 'StreetName'),\n",
       " ('AVE', 'StreetNamePostType'),\n",
       " ('SW', 'StreetNamePostDirectional')]"
      ]
     },
     "execution_count": 29,
     "metadata": {},
     "output_type": "execute_result"
    }
   ],
   "source": [
    "addr='145 N SAN RAFAEL AVE SW'\n",
    "usaddress.parse(addr)"
   ]
  },
  {
   "cell_type": "code",
   "execution_count": 31,
   "metadata": {},
   "outputs": [
    {
     "data": {
      "text/plain": [
       "[('434', 'AddressNumber'),\n",
       " ('S', 'StreetNamePreDirectional'),\n",
       " ('BON', 'StreetName'),\n",
       " ('JOVI', 'StreetName'),\n",
       " ('BLVD', 'StreetNamePostType'),\n",
       " ('E', 'StreetNamePostDirectional')]"
      ]
     },
     "execution_count": 31,
     "metadata": {},
     "output_type": "execute_result"
    }
   ],
   "source": [
    "x = usaddress.parse('434 S BON JOVI BLVD E')\n",
    "x"
   ]
  },
  {
   "cell_type": "code",
   "execution_count": 34,
   "metadata": {},
   "outputs": [
    {
     "data": {
      "text/plain": [
       "('434', 'AddressNumber')"
      ]
     },
     "execution_count": 34,
     "metadata": {},
     "output_type": "execute_result"
    }
   ],
   "source": [
    "x[0]"
   ]
  },
  {
   "cell_type": "code",
   "execution_count": 35,
   "metadata": {},
   "outputs": [
    {
     "data": {
      "text/plain": [
       "'S BON JOVI BLVD E '"
      ]
     },
     "execution_count": 35,
     "metadata": {},
     "output_type": "execute_result"
    }
   ],
   "source": [
    "s=''\n",
    "for t in x:\n",
    "    if t[1] == 'AddressNumber':\n",
    "        continue\n",
    "    s += t[0] + ' '\n",
    "s"
   ]
  },
  {
   "cell_type": "code",
   "execution_count": 36,
   "metadata": {},
   "outputs": [
    {
     "data": {
      "text/plain": [
       "[('332', 'AddressNumber'),\n",
       " ('ISLAND', 'StreetName'),\n",
       " ('DR', 'StreetNamePostType'),\n",
       " ('APT', 'OccupancyType'),\n",
       " ('101', 'OccupancyIdentifier')]"
      ]
     },
     "execution_count": 36,
     "metadata": {},
     "output_type": "execute_result"
    }
   ],
   "source": [
    "usaddress.parse('332 ISLAND DR APT 101')"
   ]
  },
  {
   "cell_type": "code",
   "execution_count": 2,
   "metadata": {},
   "outputs": [],
   "source": [
    "import usaddress"
   ]
  },
  {
   "cell_type": "code",
   "execution_count": 5,
   "metadata": {},
   "outputs": [],
   "source": [
    "t=usaddress.parse('110A S MAIN ST')"
   ]
  },
  {
   "cell_type": "code",
   "execution_count": 7,
   "metadata": {},
   "outputs": [
    {
     "data": {
      "text/plain": [
       "{'AddressNumber': '110A',\n",
       " 'StreetNamePreDirectional': 'S',\n",
       " 'StreetName': 'MAIN',\n",
       " 'StreetNamePostType': 'ST'}"
      ]
     },
     "execution_count": 7,
     "metadata": {},
     "output_type": "execute_result"
    }
   ],
   "source": [
    "{x[1]:x[0] for x in t}"
   ]
  },
  {
   "cell_type": "code",
   "execution_count": 12,
   "metadata": {},
   "outputs": [],
   "source": [
    "s='110A S MAIN ST E'"
   ]
  },
  {
   "cell_type": "code",
   "execution_count": 13,
   "metadata": {},
   "outputs": [
    {
     "data": {
      "text/plain": [
       "['110A', 'S', 'MAIN', 'ST', 'E']"
      ]
     },
     "execution_count": 13,
     "metadata": {},
     "output_type": "execute_result"
    }
   ],
   "source": [
    "usaddress.tokenize(s)"
   ]
  },
  {
   "cell_type": "code",
   "execution_count": 15,
   "metadata": {},
   "outputs": [],
   "source": [
    "def to_dict(s):\n",
    "    return {t[1]: t[0] for t in usaddress.parse(s)}\n"
   ]
  },
  {
   "cell_type": "code",
   "execution_count": 16,
   "metadata": {},
   "outputs": [
    {
     "data": {
      "text/plain": [
       "{'AddressNumber': '110A',\n",
       " 'StreetNamePreDirectional': 'S',\n",
       " 'StreetName': 'MAIN',\n",
       " 'StreetNamePostType': 'ST',\n",
       " 'StreetNamePostDirectional': 'E'}"
      ]
     },
     "execution_count": 16,
     "metadata": {},
     "output_type": "execute_result"
    }
   ],
   "source": [
    "to_dict(s)"
   ]
  },
  {
   "cell_type": "code",
   "execution_count": 17,
   "metadata": {},
   "outputs": [],
   "source": [
    "import re"
   ]
  },
  {
   "cell_type": "code",
   "execution_count": 18,
   "metadata": {},
   "outputs": [],
   "source": [
    "x='110A'"
   ]
  },
  {
   "cell_type": "code",
   "execution_count": 20,
   "metadata": {},
   "outputs": [
    {
     "data": {
      "text/plain": [
       "'A'"
      ]
     },
     "execution_count": 20,
     "metadata": {},
     "output_type": "execute_result"
    }
   ],
   "source": [
    "re.sub('\\d+', '', x)"
   ]
  },
  {
   "cell_type": "code",
   "execution_count": 25,
   "metadata": {},
   "outputs": [
    {
     "data": {
      "text/plain": [
       "['1', '1', '0']"
      ]
     },
     "execution_count": 25,
     "metadata": {},
     "output_type": "execute_result"
    }
   ],
   "source": [
    "re.findall('\\d', x)"
   ]
  },
  {
   "cell_type": "code",
   "execution_count": 26,
   "metadata": {},
   "outputs": [
    {
     "data": {
      "text/plain": [
       "['A']"
      ]
     },
     "execution_count": 26,
     "metadata": {},
     "output_type": "execute_result"
    }
   ],
   "source": [
    "re.findall('\\D+', x)"
   ]
  },
  {
   "cell_type": "code",
   "execution_count": null,
   "metadata": {},
   "outputs": [],
   "source": []
  }
 ],
 "metadata": {
  "interpreter": {
   "hash": "63fd5069d213b44bf678585dea6b12cceca9941eaf7f819626cde1f2670de90d"
  },
  "kernelspec": {
   "display_name": "Python 3.9.5 64-bit",
   "language": "python",
   "name": "python3"
  },
  "language_info": {
   "codemirror_mode": {
    "name": "ipython",
    "version": 3
   },
   "file_extension": ".py",
   "mimetype": "text/x-python",
   "name": "python",
   "nbconvert_exporter": "python",
   "pygments_lexer": "ipython3",
   "version": "3.9.5"
  },
  "orig_nbformat": 4
 },
 "nbformat": 4,
 "nbformat_minor": 2
}
